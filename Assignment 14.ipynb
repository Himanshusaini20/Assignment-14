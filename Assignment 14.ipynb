{
 "cells": [
  {
   "cell_type": "markdown",
   "id": "448da74b-1162-47ea-9191-8e42425aecf2",
   "metadata": {},
   "source": [
    "### Q1 What is MongoDB? Explain non relational database in short. In which scenarios itis preferredto use MongoDB over SQL database?"
   ]
  },
  {
   "cell_type": "code",
   "execution_count": 3,
   "id": "52bdc5a2-6712-4b5b-b590-fb06f6ebfef1",
   "metadata": {},
   "outputs": [
    {
     "data": {
      "text/plain": [
       "' MongoDB is an open source NoSQL database management program. NoSQL is used as an alternative to traditional relational\\n  databases NoSQL databases arequite useful for workingwith large sets of distributing data.'"
      ]
     },
     "execution_count": 3,
     "metadata": {},
     "output_type": "execute_result"
    }
   ],
   "source": [
    "''' MongoDB is an open source NoSQL database management program. NoSQL is used as an alternative to traditional relational\n",
    "  databases NoSQL databases arequite useful for workingwith large sets of distributing data.'''"
   ]
  },
  {
   "cell_type": "code",
   "execution_count": 4,
   "id": "d7c2bfa8-00ab-43bc-b6ea-50f5df938230",
   "metadata": {},
   "outputs": [
    {
     "data": {
      "text/plain": [
       "' MongoDB is a non relational document database that provides support for JSON like storage'"
      ]
     },
     "execution_count": 4,
     "metadata": {},
     "output_type": "execute_result"
    }
   ],
   "source": [
    "''' MongoDB is a non relational document database that provides support for JSON like storage'''"
   ]
  },
  {
   "cell_type": "code",
   "execution_count": 5,
   "id": "ceefbec4-0664-45b2-88ce-ccd7158fa673",
   "metadata": {},
   "outputs": [
    {
     "data": {
      "text/plain": [
       "' MongoDB offers many advantages over traditional relational databases: Full cloud based devloper data platform. flexible\\ndocument schemas. Widely supported and code native data access.'"
      ]
     },
     "execution_count": 5,
     "metadata": {},
     "output_type": "execute_result"
    }
   ],
   "source": [
    "''' MongoDB offers many advantages over traditional relational databases: Full cloud based devloper data platform. flexible\n",
    "document schemas. Widely supported and code native data access.'''"
   ]
  },
  {
   "cell_type": "markdown",
   "id": "696e4069-3174-4e7b-9c55-685af68288c8",
   "metadata": {},
   "source": [
    "### Q2 State and Explain the features of MongoDB."
   ]
  },
  {
   "cell_type": "code",
   "execution_count": 6,
   "id": "96e3e260-6d3b-48d6-88bb-9f2bd84408e5",
   "metadata": {},
   "outputs": [
    {
     "data": {
      "text/plain": [
       "' MongoDB supports Master Slave replication. MongoDb can run over multiple servers. The data is duplicated to keep the\\nsystem up and also keep its running condition in case of hardware faliure. It has an automatic load balancing configration\\nbecause of data placed in shards'"
      ]
     },
     "execution_count": 6,
     "metadata": {},
     "output_type": "execute_result"
    }
   ],
   "source": [
    "''' MongoDB supports Master Slave replication. MongoDb can run over multiple servers. The data is duplicated to keep the\n",
    "system up and also keep its running condition in case of hardware faliure. It has an automatic load balancing configration\n",
    "because of data placed in shards'''"
   ]
  },
  {
   "cell_type": "markdown",
   "id": "f72c1c5d-df56-447b-a9af-1367be8a0e0e",
   "metadata": {},
   "source": [
    "### Q3 Write a code to connect MongoDB to python. Also,create a database and a collection in MongoDB."
   ]
  },
  {
   "cell_type": "code",
   "execution_count": null,
   "id": "6946f280-5a94-4a4a-bc3d-bf579bd9fc29",
   "metadata": {},
   "outputs": [],
   "source": [
    "pip install pymongo\n",
    "import pymongo\n",
    "client= pymongo.MongoClient(\"\")\n",
    "DB=client.test\n"
   ]
  },
  {
   "cell_type": "code",
   "execution_count": null,
   "id": "248a4ced-1f61-46ed-9a7f-ed4016fe2c3e",
   "metadata": {},
   "outputs": [],
   "source": [
    "data={\"name\":\"himanshu\"'\n",
    "      \"class\":\"data science\",\n",
    "      \"time\":\"flexi\"\n",
    "}"
   ]
  },
  {
   "cell_type": "code",
   "execution_count": null,
   "id": "23f063fd-97c0-4161-a17b-0300aa6551a6",
   "metadata": {},
   "outputs": [],
   "source": [
    "collection_data=DB[\"Student_info\"]"
   ]
  },
  {
   "cell_type": "markdown",
   "id": "2b540ebf-704d-4f16-bff4-acda49d8b237",
   "metadata": {},
   "source": [
    "### Q4 Using the database and the collection created in question number 3, write a code to insert one record, and insert many records. Use thefind() and find_one() methords to print the inserted record."
   ]
  },
  {
   "cell_type": "code",
   "execution_count": null,
   "id": "40c01bfb-53dc-405e-9920-a704c506be35",
   "metadata": {},
   "outputs": [],
   "source": [
    "collection_data.insert_one(data)"
   ]
  },
  {
   "cell_type": "code",
   "execution_count": null,
   "id": "6d226683-0182-49cd-9ca0-56d3cbcf183f",
   "metadata": {},
   "outputs": [],
   "source": [
    "data1=[\n",
    "    {\"name\":\"him\",\"student_id\":01}\n",
    "    {\"name\":\"sahil\",\"student_id\":02}\n",
    "    {\"name\":\"jatin\",\"student_id\":03}\n",
    "    {\"name\":\"aashish\",\"student_id\":04}\n",
    "\n",
    "]"
   ]
  },
  {
   "cell_type": "code",
   "execution_count": null,
   "id": "a15152b6-79ee-46d4-8290-e3d3e28c33bb",
   "metadata": {},
   "outputs": [],
   "source": [
    "collection_data.insert_many(data1)"
   ]
  },
  {
   "cell_type": "code",
   "execution_count": null,
   "id": "14e7c181-de1a-4c0e-b714-5022fc2db5d8",
   "metadata": {},
   "outputs": [],
   "source": [
    "collection_data.find_one()"
   ]
  },
  {
   "cell_type": "code",
   "execution_count": null,
   "id": "dcc5fda2-3375-4729-b0aa-410ae54efdf3",
   "metadata": {},
   "outputs": [],
   "source": [
    "collection_data.find()"
   ]
  },
  {
   "cell_type": "markdown",
   "id": "ac645f72-b8c2-4894-9fb7-bab9a6b20dd6",
   "metadata": {},
   "source": [
    "### Q5 Explain how can use the find() method to query the MongoDB database. Write a simple code to demonstrate this.  "
   ]
  },
  {
   "cell_type": "code",
   "execution_count": 7,
   "id": "1142f106-1659-44b2-86cb-7097da26933b",
   "metadata": {},
   "outputs": [
    {
     "data": {
      "text/plain": [
       "\" MongoDB's find() method selects documents from a collection or view and returns a cursor to those documents. There are two\\nparameters in this formula query and projection. Query is an optional parameter that specifies the criteria for selection \""
      ]
     },
     "execution_count": 7,
     "metadata": {},
     "output_type": "execute_result"
    }
   ],
   "source": [
    "''' MongoDB's find() method selects documents from a collection or view and returns a cursor to those documents. There are two\n",
    "parameters in this formula query and projection. Query is an optional parameter that specifies the criteria for selection '''"
   ]
  },
  {
   "cell_type": "code",
   "execution_count": null,
   "id": "1c433d7b-f2c7-49c1-af39-5ff1f2dad081",
   "metadata": {},
   "outputs": [],
   "source": [
    "collection_data.find()"
   ]
  },
  {
   "cell_type": "markdown",
   "id": "dc5fa3c5-ec01-4f66-b4b9-30f898f7cb6f",
   "metadata": {},
   "source": [
    "### Q6 Explain the sort() method. Give an example to demonstrate sorting in MongoDB. "
   ]
  },
  {
   "cell_type": "code",
   "execution_count": 9,
   "id": "9a1cd2a6-f7b3-4bc1-aacc-ebe4c1d46792",
   "metadata": {},
   "outputs": [
    {
     "data": {
      "text/plain": [
       "' The sort() method sorts the elements ofanr array in place and returns the reference to the same array, now sorted.The default\\nsort order is ascending.'"
      ]
     },
     "execution_count": 9,
     "metadata": {},
     "output_type": "execute_result"
    }
   ],
   "source": [
    "''' The sort() method sorts the elements ofanr array in place and returns the reference to the same array, now sorted.The default\n",
    "sort order is ascending.'''"
   ]
  },
  {
   "cell_type": "code",
   "execution_count": null,
   "id": "ad4c7064-62c1-46e7-92a0-c3389b795d23",
   "metadata": {},
   "outputs": [],
   "source": [
    "collection-data.find(data1).sort(Student_id)"
   ]
  },
  {
   "cell_type": "markdown",
   "id": "54a8b431-77fc-4f41-b2f8-b7968a3c59c4",
   "metadata": {},
   "source": [
    "### Q7 Explain why delete_one(), delete_many(), and drop() is used."
   ]
  },
  {
   "cell_type": "code",
   "execution_count": 10,
   "id": "913d2a8b-c8da-469e-b88f-ceccbf359e1c",
   "metadata": {},
   "outputs": [
    {
     "data": {
      "text/plain": [
       "' In MongoDB,db.collection.drop() method is used todrop a collection from a database'"
      ]
     },
     "execution_count": 10,
     "metadata": {},
     "output_type": "execute_result"
    }
   ],
   "source": [
    "# drop()\n",
    "''' In MongoDB,db.collection.drop() method is used todrop a collection from a database'''"
   ]
  },
  {
   "cell_type": "code",
   "execution_count": 12,
   "id": "7a65f09f-d1f0-4297-a2c1-a86ec2603f67",
   "metadata": {},
   "outputs": [
    {
     "data": {
      "text/plain": [
       "' To delete one document, We use the delete_one() method. the first parameter of the delete_one() method is a query object defining which document to delete '"
      ]
     },
     "execution_count": 12,
     "metadata": {},
     "output_type": "execute_result"
    }
   ],
   "source": [
    "# delete_one()\n",
    "''' To delete one document, We use the delete_one() method. the first parameter of the delete_one() method is a query object defining which document to delete '''"
   ]
  },
  {
   "cell_type": "code",
   "execution_count": null,
   "id": "4a70b7f7-f148-44c9-bb98-20a40d79c541",
   "metadata": {},
   "outputs": [],
   "source": [
    "# delete_many()\n",
    "'''Delete_many() is used when one needs to delete more than one document. A query object containing whi9ch document to be deleted is cereated and is passed as \n",
    "the first param'''\n"
   ]
  }
 ],
 "metadata": {
  "kernelspec": {
   "display_name": "Python 3 (ipykernel)",
   "language": "python",
   "name": "python3"
  },
  "language_info": {
   "codemirror_mode": {
    "name": "ipython",
    "version": 3
   },
   "file_extension": ".py",
   "mimetype": "text/x-python",
   "name": "python",
   "nbconvert_exporter": "python",
   "pygments_lexer": "ipython3",
   "version": "3.10.8"
  }
 },
 "nbformat": 4,
 "nbformat_minor": 5
}
